{
 "cells": [
  {
   "cell_type": "markdown",
   "metadata": {},
   "source": [
    "# Sentiment Analysis of the Coffee Reviews "
   ]
  },
  {
   "cell_type": "markdown",
   "metadata": {},
   "source": [
    "I applied three main libraries: \n",
    "* TextBolb\n",
    "* VADER\n",
    "* SentiWordNet"
   ]
  },
  {
   "cell_type": "markdown",
   "metadata": {},
   "source": [
    "**TextBlob returns polarity and subjectivity of a sentence**:    \n",
    "Polarity lies between [-1,1], -1 defines a negative sentiment and 1 defines a positive sentiment. Negation words reverse the polarity.    \n",
    "Subjectivity lies between [0,1]. Subjectivity quantifies the amount of personal opinion and factual information contained in the text. The higher subjectivity means that the text contains personal opinion rather than factual information.    \n",
    "intensity. TextBlob calculates subjectivity by looking at the ‘intensity’. Intensity determines if a word modifies the next word. For English, adverbs are used as modifiers (‘very good’).   "
   ]
  },
  {
   "cell_type": "markdown",
   "metadata": {},
   "source": [
    "**Sentiment Analysis using VADER**   \n",
    "VADER stands for Valence Aware Dictionary and Sentiment Reasoner. Vader sentiment not only tells if the statement is positive or negative along with the intensity of emotion."
   ]
  },
  {
   "cell_type": "markdown",
   "metadata": {},
   "source": [
    "**Sentiment Analysis using SentiWordNet**   \n",
    "\n",
    "SentiWordNet uses the WordNet database. It is important to obtain the POS, lemma of each word. We will then use the lemma, POS to obtain the synonym sets(synsets). We then obtain the positive, negative, objective scores for all the possible synsets or the very first synset and label the text.\n",
    "\n",
    "if positive score > negative score, the sentiment is positive\n",
    "if positive score < negative score, the sentiment is negative\n",
    "if positive score = negative score, the sentiment is neutral"
   ]
  },
  {
   "cell_type": "code",
   "execution_count": null,
   "metadata": {},
   "outputs": [],
   "source": []
  },
  {
   "cell_type": "code",
   "execution_count": 189,
   "metadata": {},
   "outputs": [],
   "source": [
    "\n",
    "# libraries \n",
    "import pandas as pd \n",
    "import json\n",
    "import seaborn as sns\n",
    "import textblob\n",
    "import re \n",
    "import matplotlib.pyplot as plt\n",
    "sns.set_style(\"darkgrid\", {\"axes.facecolor\": \".9\"})"
   ]
  },
  {
   "cell_type": "code",
   "execution_count": 95,
   "metadata": {},
   "outputs": [
    {
     "data": {
      "text/html": [
       "<div>\n",
       "<style scoped>\n",
       "    .dataframe tbody tr th:only-of-type {\n",
       "        vertical-align: middle;\n",
       "    }\n",
       "\n",
       "    .dataframe tbody tr th {\n",
       "        vertical-align: top;\n",
       "    }\n",
       "\n",
       "    .dataframe thead th {\n",
       "        text-align: right;\n",
       "    }\n",
       "</style>\n",
       "<table border=\"1\" class=\"dataframe\">\n",
       "  <thead>\n",
       "    <tr style=\"text-align: right;\">\n",
       "      <th></th>\n",
       "      <th>product</th>\n",
       "      <th>name</th>\n",
       "      <th>name_link</th>\n",
       "      <th>location</th>\n",
       "      <th>date</th>\n",
       "      <th>stars</th>\n",
       "      <th>title</th>\n",
       "      <th>review</th>\n",
       "    </tr>\n",
       "  </thead>\n",
       "  <tbody>\n",
       "    <tr>\n",
       "      <th>0</th>\n",
       "      <td>B00L3N4ZR2</td>\n",
       "      <td>Dick</td>\n",
       "      <td>/gp/profile/amzn1.account.AHBKNO5GHMDEHLMYHHUL...</td>\n",
       "      <td>the United States</td>\n",
       "      <td>August 24, 2018</td>\n",
       "      <td>5.0</td>\n",
       "      <td>Truly good quality coffee rediscovered!</td>\n",
       "      <td>The title says it all; “Truly good quality cof...</td>\n",
       "    </tr>\n",
       "  </tbody>\n",
       "</table>\n",
       "</div>"
      ],
      "text/plain": [
       "      product  name                                          name_link  \\\n",
       "0  B00L3N4ZR2  Dick  /gp/profile/amzn1.account.AHBKNO5GHMDEHLMYHHUL...   \n",
       "\n",
       "              location              date stars  \\\n",
       "0   the United States    August 24, 2018   5.0   \n",
       "\n",
       "                                     title  \\\n",
       "0  Truly good quality coffee rediscovered!   \n",
       "\n",
       "                                              review  \n",
       "0  The title says it all; “Truly good quality cof...  "
      ]
     },
     "execution_count": 95,
     "metadata": {},
     "output_type": "execute_result"
    }
   ],
   "source": [
    "# Creating a pandas dataframe from review amazon json  file\n",
    "with open(\"C:/Users/ryass.DESKTOP-0A1NS33/OneDrive/practice_python/scrap_data/amazon/amazon.json\") as f:\n",
    "    data_json = json.load(f)\n",
    "\n",
    "\n",
    "data = pd.DataFrame(data_json)\n",
    "\n",
    "data.head(1)\n",
    "\n"
   ]
  },
  {
   "cell_type": "code",
   "execution_count": 96,
   "metadata": {},
   "outputs": [
    {
     "data": {
      "text/html": [
       "<div>\n",
       "<style scoped>\n",
       "    .dataframe tbody tr th:only-of-type {\n",
       "        vertical-align: middle;\n",
       "    }\n",
       "\n",
       "    .dataframe tbody tr th {\n",
       "        vertical-align: top;\n",
       "    }\n",
       "\n",
       "    .dataframe thead th {\n",
       "        text-align: right;\n",
       "    }\n",
       "</style>\n",
       "<table border=\"1\" class=\"dataframe\">\n",
       "  <thead>\n",
       "    <tr style=\"text-align: right;\">\n",
       "      <th></th>\n",
       "      <th>stars</th>\n",
       "      <th>title</th>\n",
       "      <th>review</th>\n",
       "    </tr>\n",
       "  </thead>\n",
       "  <tbody>\n",
       "    <tr>\n",
       "      <th>0</th>\n",
       "      <td>5.0</td>\n",
       "      <td>Truly good quality coffee rediscovered!</td>\n",
       "      <td>The title says it all; “Truly good quality cof...</td>\n",
       "    </tr>\n",
       "    <tr>\n",
       "      <th>1</th>\n",
       "      <td>5.0</td>\n",
       "      <td>Human Termite!</td>\n",
       "      <td>This product is amazing! It fires me up so muc...</td>\n",
       "    </tr>\n",
       "  </tbody>\n",
       "</table>\n",
       "</div>"
      ],
      "text/plain": [
       "  stars                                    title  \\\n",
       "0   5.0  Truly good quality coffee rediscovered!   \n",
       "1   5.0                           Human Termite!   \n",
       "\n",
       "                                              review  \n",
       "0  The title says it all; “Truly good quality cof...  \n",
       "1  This product is amazing! It fires me up so muc...  "
      ]
     },
     "execution_count": 96,
     "metadata": {},
     "output_type": "execute_result"
    }
   ],
   "source": [
    "# extracting only the rates and title and reviews \n",
    "mydata = data.loc[:,['stars','title','review']]\n",
    "mydata.head(2)"
   ]
  },
  {
   "cell_type": "code",
   "execution_count": 97,
   "metadata": {},
   "outputs": [
    {
     "data": {
      "text/html": [
       "<div>\n",
       "<style scoped>\n",
       "    .dataframe tbody tr th:only-of-type {\n",
       "        vertical-align: middle;\n",
       "    }\n",
       "\n",
       "    .dataframe tbody tr th {\n",
       "        vertical-align: top;\n",
       "    }\n",
       "\n",
       "    .dataframe thead th {\n",
       "        text-align: right;\n",
       "    }\n",
       "</style>\n",
       "<table border=\"1\" class=\"dataframe\">\n",
       "  <thead>\n",
       "    <tr style=\"text-align: right;\">\n",
       "      <th></th>\n",
       "      <th>stars</th>\n",
       "      <th>title</th>\n",
       "      <th>review</th>\n",
       "      <th>Cleaned Reviews</th>\n",
       "    </tr>\n",
       "  </thead>\n",
       "  <tbody>\n",
       "    <tr>\n",
       "      <th>0</th>\n",
       "      <td>5.0</td>\n",
       "      <td>Truly good quality coffee rediscovered!</td>\n",
       "      <td>The title says it all; “Truly good quality cof...</td>\n",
       "      <td>truly good quality coffee rediscovered</td>\n",
       "    </tr>\n",
       "    <tr>\n",
       "      <th>1</th>\n",
       "      <td>5.0</td>\n",
       "      <td>Human Termite!</td>\n",
       "      <td>This product is amazing! It fires me up so muc...</td>\n",
       "      <td>human termite</td>\n",
       "    </tr>\n",
       "    <tr>\n",
       "      <th>2</th>\n",
       "      <td>5.0</td>\n",
       "      <td>very good for espresso, highly recommend</td>\n",
       "      <td>I have been using this since I bought my revil...</td>\n",
       "      <td>very good for espresso highly recommend</td>\n",
       "    </tr>\n",
       "    <tr>\n",
       "      <th>3</th>\n",
       "      <td>5.0</td>\n",
       "      <td>This Gran Crema Espresso Is The Best coffee th...</td>\n",
       "      <td>I use the Harrio brewing method for my morning...</td>\n",
       "      <td>this gran crema espresso is the best coffee th...</td>\n",
       "    </tr>\n",
       "    <tr>\n",
       "      <th>4</th>\n",
       "      <td>1.0</td>\n",
       "      <td>Get ready for a blast from the past! Is this T...</td>\n",
       "      <td>Lavazza coffee is usually incredible, fresh an...</td>\n",
       "      <td>get ready for a blast from the past is this tw...</td>\n",
       "    </tr>\n",
       "  </tbody>\n",
       "</table>\n",
       "</div>"
      ],
      "text/plain": [
       "  stars                                              title  \\\n",
       "0   5.0            Truly good quality coffee rediscovered!   \n",
       "1   5.0                                     Human Termite!   \n",
       "2   5.0           very good for espresso, highly recommend   \n",
       "3   5.0  This Gran Crema Espresso Is The Best coffee th...   \n",
       "4   1.0  Get ready for a blast from the past! Is this T...   \n",
       "\n",
       "                                              review  \\\n",
       "0  The title says it all; “Truly good quality cof...   \n",
       "1  This product is amazing! It fires me up so muc...   \n",
       "2  I have been using this since I bought my revil...   \n",
       "3  I use the Harrio brewing method for my morning...   \n",
       "4  Lavazza coffee is usually incredible, fresh an...   \n",
       "\n",
       "                                     Cleaned Reviews  \n",
       "0            truly good quality coffee rediscovered   \n",
       "1                                     human termite   \n",
       "2            very good for espresso highly recommend  \n",
       "3  this gran crema espresso is the best coffee th...  \n",
       "4  get ready for a blast from the past is this tw...  "
      ]
     },
     "execution_count": 97,
     "metadata": {},
     "output_type": "execute_result"
    }
   ],
   "source": [
    "# Define a function to clean the text\n",
    "def clean(text):\n",
    "# Removes all special characters and numericals leaving the alphabets\n",
    "    text = re.sub('[^A-Za-z]+', ' ', text)\n",
    "    return text.lower()\n",
    "\n",
    "# Cleaning the text in the review column\n",
    "mydata['Cleaned Reviews'] = mydata['title'].apply(clean)\n",
    "mydata.head()"
   ]
  },
  {
   "cell_type": "code",
   "execution_count": 98,
   "metadata": {},
   "outputs": [
    {
     "name": "stderr",
     "output_type": "stream",
     "text": [
      "[nltk_data] Downloading package punkt to C:\\Users\\ryass.DESKTOP-0A1NS3\n",
      "[nltk_data]     3\\AppData\\Roaming\\nltk_data...\n",
      "[nltk_data]   Package punkt is already up-to-date!\n",
      "[nltk_data] Downloading package stopwords to C:\\Users\\ryass.DESKTOP-0A\n",
      "[nltk_data]     1NS33\\AppData\\Roaming\\nltk_data...\n",
      "[nltk_data]   Package stopwords is already up-to-date!\n",
      "[nltk_data] Downloading package wordnet to C:\\Users\\ryass.DESKTOP-0A1N\n",
      "[nltk_data]     S33\\AppData\\Roaming\\nltk_data...\n",
      "[nltk_data]   Package wordnet is already up-to-date!\n",
      "[nltk_data] Downloading package averaged_perceptron_tagger to C:\\Users\n",
      "[nltk_data]     \\ryass.DESKTOP-0A1NS33\\AppData\\Roaming\\nltk_data...\n",
      "[nltk_data]   Package averaged_perceptron_tagger is already up-to-\n",
      "[nltk_data]       date!\n"
     ]
    },
    {
     "data": {
      "text/html": [
       "<div>\n",
       "<style scoped>\n",
       "    .dataframe tbody tr th:only-of-type {\n",
       "        vertical-align: middle;\n",
       "    }\n",
       "\n",
       "    .dataframe tbody tr th {\n",
       "        vertical-align: top;\n",
       "    }\n",
       "\n",
       "    .dataframe thead th {\n",
       "        text-align: right;\n",
       "    }\n",
       "</style>\n",
       "<table border=\"1\" class=\"dataframe\">\n",
       "  <thead>\n",
       "    <tr style=\"text-align: right;\">\n",
       "      <th></th>\n",
       "      <th>stars</th>\n",
       "      <th>title</th>\n",
       "      <th>review</th>\n",
       "      <th>Cleaned Reviews</th>\n",
       "      <th>POS tagged</th>\n",
       "    </tr>\n",
       "  </thead>\n",
       "  <tbody>\n",
       "    <tr>\n",
       "      <th>0</th>\n",
       "      <td>5.0</td>\n",
       "      <td>Truly good quality coffee rediscovered!</td>\n",
       "      <td>The title says it all; “Truly good quality cof...</td>\n",
       "      <td>truly good quality coffee rediscovered</td>\n",
       "      <td>[(truly, r), (good, a), (quality, n), (coffee,...</td>\n",
       "    </tr>\n",
       "    <tr>\n",
       "      <th>1</th>\n",
       "      <td>5.0</td>\n",
       "      <td>Human Termite!</td>\n",
       "      <td>This product is amazing! It fires me up so muc...</td>\n",
       "      <td>human termite</td>\n",
       "      <td>[(human, a), (termite, n)]</td>\n",
       "    </tr>\n",
       "    <tr>\n",
       "      <th>2</th>\n",
       "      <td>5.0</td>\n",
       "      <td>very good for espresso, highly recommend</td>\n",
       "      <td>I have been using this since I bought my revil...</td>\n",
       "      <td>very good for espresso highly recommend</td>\n",
       "      <td>[(good, a), (espresso, a), (highly, r), (recom...</td>\n",
       "    </tr>\n",
       "    <tr>\n",
       "      <th>3</th>\n",
       "      <td>5.0</td>\n",
       "      <td>This Gran Crema Espresso Is The Best coffee th...</td>\n",
       "      <td>I use the Harrio brewing method for my morning...</td>\n",
       "      <td>this gran crema espresso is the best coffee th...</td>\n",
       "      <td>[(gran, n), (crema, n), (espresso, n), (best, ...</td>\n",
       "    </tr>\n",
       "    <tr>\n",
       "      <th>4</th>\n",
       "      <td>1.0</td>\n",
       "      <td>Get ready for a blast from the past! Is this T...</td>\n",
       "      <td>Lavazza coffee is usually incredible, fresh an...</td>\n",
       "      <td>get ready for a blast from the past is this tw...</td>\n",
       "      <td>[(get, v), (ready, a), (blast, n), (past, n), ...</td>\n",
       "    </tr>\n",
       "  </tbody>\n",
       "</table>\n",
       "</div>"
      ],
      "text/plain": [
       "  stars                                              title  \\\n",
       "0   5.0            Truly good quality coffee rediscovered!   \n",
       "1   5.0                                     Human Termite!   \n",
       "2   5.0           very good for espresso, highly recommend   \n",
       "3   5.0  This Gran Crema Espresso Is The Best coffee th...   \n",
       "4   1.0  Get ready for a blast from the past! Is this T...   \n",
       "\n",
       "                                              review  \\\n",
       "0  The title says it all; “Truly good quality cof...   \n",
       "1  This product is amazing! It fires me up so muc...   \n",
       "2  I have been using this since I bought my revil...   \n",
       "3  I use the Harrio brewing method for my morning...   \n",
       "4  Lavazza coffee is usually incredible, fresh an...   \n",
       "\n",
       "                                     Cleaned Reviews  \\\n",
       "0            truly good quality coffee rediscovered    \n",
       "1                                     human termite    \n",
       "2            very good for espresso highly recommend   \n",
       "3  this gran crema espresso is the best coffee th...   \n",
       "4  get ready for a blast from the past is this tw...   \n",
       "\n",
       "                                          POS tagged  \n",
       "0  [(truly, r), (good, a), (quality, n), (coffee,...  \n",
       "1                         [(human, a), (termite, n)]  \n",
       "2  [(good, a), (espresso, a), (highly, r), (recom...  \n",
       "3  [(gran, n), (crema, n), (espresso, n), (best, ...  \n",
       "4  [(get, v), (ready, a), (blast, n), (past, n), ...  "
      ]
     },
     "execution_count": 98,
     "metadata": {},
     "output_type": "execute_result"
    }
   ],
   "source": [
    "# cleaning stop words \n",
    "import nltk\n",
    "nltk.download('punkt')\n",
    "from nltk.tokenize import word_tokenize\n",
    "from nltk import pos_tag\n",
    "nltk.download('stopwords')\n",
    "from nltk.corpus import stopwords\n",
    "nltk.download('wordnet')\n",
    "from nltk.corpus import wordnet\n",
    "nltk.download('averaged_perceptron_tagger')\n",
    "# POS tagger dictionary\n",
    "pos_dict = {'J':wordnet.ADJ, 'V':wordnet.VERB, 'N':wordnet.NOUN, 'R':wordnet.ADV}\n",
    "def token_stop_pos(text):\n",
    "    tags = pos_tag(word_tokenize(text))\n",
    "    newlist = []\n",
    "    for word, tag in tags:\n",
    "        if word.lower() not in set(stopwords.words('english')):\n",
    "            newlist.append(tuple([word, pos_dict.get(tag[0])]))\n",
    "    return newlist\n",
    "\n",
    "mydata['POS tagged'] = mydata['Cleaned Reviews'].apply(token_stop_pos)\n",
    "mydata.head()"
   ]
  },
  {
   "cell_type": "code",
   "execution_count": 99,
   "metadata": {},
   "outputs": [
    {
     "data": {
      "text/html": [
       "<div>\n",
       "<style scoped>\n",
       "    .dataframe tbody tr th:only-of-type {\n",
       "        vertical-align: middle;\n",
       "    }\n",
       "\n",
       "    .dataframe tbody tr th {\n",
       "        vertical-align: top;\n",
       "    }\n",
       "\n",
       "    .dataframe thead th {\n",
       "        text-align: right;\n",
       "    }\n",
       "</style>\n",
       "<table border=\"1\" class=\"dataframe\">\n",
       "  <thead>\n",
       "    <tr style=\"text-align: right;\">\n",
       "      <th></th>\n",
       "      <th>stars</th>\n",
       "      <th>title</th>\n",
       "      <th>review</th>\n",
       "      <th>Cleaned Reviews</th>\n",
       "      <th>POS tagged</th>\n",
       "      <th>Lemma</th>\n",
       "    </tr>\n",
       "  </thead>\n",
       "  <tbody>\n",
       "    <tr>\n",
       "      <th>0</th>\n",
       "      <td>5.0</td>\n",
       "      <td>Truly good quality coffee rediscovered!</td>\n",
       "      <td>The title says it all; “Truly good quality cof...</td>\n",
       "      <td>truly good quality coffee rediscovered</td>\n",
       "      <td>[(truly, r), (good, a), (quality, n), (coffee,...</td>\n",
       "      <td>truly good quality coffee rediscover</td>\n",
       "    </tr>\n",
       "    <tr>\n",
       "      <th>1</th>\n",
       "      <td>5.0</td>\n",
       "      <td>Human Termite!</td>\n",
       "      <td>This product is amazing! It fires me up so muc...</td>\n",
       "      <td>human termite</td>\n",
       "      <td>[(human, a), (termite, n)]</td>\n",
       "      <td>human termite</td>\n",
       "    </tr>\n",
       "    <tr>\n",
       "      <th>2</th>\n",
       "      <td>5.0</td>\n",
       "      <td>very good for espresso, highly recommend</td>\n",
       "      <td>I have been using this since I bought my revil...</td>\n",
       "      <td>very good for espresso highly recommend</td>\n",
       "      <td>[(good, a), (espresso, a), (highly, r), (recom...</td>\n",
       "      <td>good espresso highly recommend</td>\n",
       "    </tr>\n",
       "    <tr>\n",
       "      <th>3</th>\n",
       "      <td>5.0</td>\n",
       "      <td>This Gran Crema Espresso Is The Best coffee th...</td>\n",
       "      <td>I use the Harrio brewing method for my morning...</td>\n",
       "      <td>this gran crema espresso is the best coffee th...</td>\n",
       "      <td>[(gran, n), (crema, n), (espresso, n), (best, ...</td>\n",
       "      <td>gran crema espresso best coffee year</td>\n",
       "    </tr>\n",
       "    <tr>\n",
       "      <th>4</th>\n",
       "      <td>1.0</td>\n",
       "      <td>Get ready for a blast from the past! Is this T...</td>\n",
       "      <td>Lavazza coffee is usually incredible, fresh an...</td>\n",
       "      <td>get ready for a blast from the past is this tw...</td>\n",
       "      <td>[(get, v), (ready, a), (blast, n), (past, n), ...</td>\n",
       "      <td>get ready blast past twilight zone</td>\n",
       "    </tr>\n",
       "  </tbody>\n",
       "</table>\n",
       "</div>"
      ],
      "text/plain": [
       "  stars                                              title  \\\n",
       "0   5.0            Truly good quality coffee rediscovered!   \n",
       "1   5.0                                     Human Termite!   \n",
       "2   5.0           very good for espresso, highly recommend   \n",
       "3   5.0  This Gran Crema Espresso Is The Best coffee th...   \n",
       "4   1.0  Get ready for a blast from the past! Is this T...   \n",
       "\n",
       "                                              review  \\\n",
       "0  The title says it all; “Truly good quality cof...   \n",
       "1  This product is amazing! It fires me up so muc...   \n",
       "2  I have been using this since I bought my revil...   \n",
       "3  I use the Harrio brewing method for my morning...   \n",
       "4  Lavazza coffee is usually incredible, fresh an...   \n",
       "\n",
       "                                     Cleaned Reviews  \\\n",
       "0            truly good quality coffee rediscovered    \n",
       "1                                     human termite    \n",
       "2            very good for espresso highly recommend   \n",
       "3  this gran crema espresso is the best coffee th...   \n",
       "4  get ready for a blast from the past is this tw...   \n",
       "\n",
       "                                          POS tagged  \\\n",
       "0  [(truly, r), (good, a), (quality, n), (coffee,...   \n",
       "1                         [(human, a), (termite, n)]   \n",
       "2  [(good, a), (espresso, a), (highly, r), (recom...   \n",
       "3  [(gran, n), (crema, n), (espresso, n), (best, ...   \n",
       "4  [(get, v), (ready, a), (blast, n), (past, n), ...   \n",
       "\n",
       "                                    Lemma  \n",
       "0    truly good quality coffee rediscover  \n",
       "1                           human termite  \n",
       "2          good espresso highly recommend  \n",
       "3    gran crema espresso best coffee year  \n",
       "4      get ready blast past twilight zone  "
      ]
     },
     "execution_count": 99,
     "metadata": {},
     "output_type": "execute_result"
    }
   ],
   "source": [
    "# finding the root of the words\n",
    "from nltk.stem import WordNetLemmatizer\n",
    "wordnet_lemmatizer = WordNetLemmatizer()\n",
    "def lemmatize(pos_data):\n",
    "    lemma_rew = \" \"\n",
    "    for word, pos in pos_data:\n",
    "        if not pos:\n",
    "            lemma = word\n",
    "            lemma_rew = lemma_rew + \" \" + lemma\n",
    "        else:\n",
    "            lemma = wordnet_lemmatizer.lemmatize(word, pos=pos)\n",
    "            lemma_rew = lemma_rew + \" \" + lemma\n",
    "    return lemma_rew\n",
    "\n",
    "mydata['Lemma'] = mydata['POS tagged'].apply(lemmatize)\n",
    "mydata.head()"
   ]
  },
  {
   "cell_type": "code",
   "execution_count": 100,
   "metadata": {},
   "outputs": [],
   "source": [
    "# TextBlob aims to provide access to common text-processing operations through a familiar interface.\n",
    "# You can treat TextBlob objects as if they were Python strings that learned how to do Natural\n",
    "# Language Processing.\n",
    "\n",
    "from textblob import TextBlob\n",
    "# function to calculate subjectivity\n",
    "def getSubjectivity(review):\n",
    "    return TextBlob(review).sentiment.subjectivity\n",
    "# function to calculate polarity\n",
    "def getPolarity(review):\n",
    "    return TextBlob(review).sentiment.polarity\n",
    "\n",
    "# function to analyze the reviews\n",
    "def analysis(score):\n",
    "    if score < 0:\n",
    "        return 'Negative'\n",
    "    elif score == 0:\n",
    "        return 'Neutral'\n",
    "    else:\n",
    "        return 'Positive'"
   ]
  },
  {
   "cell_type": "code",
   "execution_count": 101,
   "metadata": {},
   "outputs": [
    {
     "data": {
      "text/html": [
       "<div>\n",
       "<style scoped>\n",
       "    .dataframe tbody tr th:only-of-type {\n",
       "        vertical-align: middle;\n",
       "    }\n",
       "\n",
       "    .dataframe tbody tr th {\n",
       "        vertical-align: top;\n",
       "    }\n",
       "\n",
       "    .dataframe thead th {\n",
       "        text-align: right;\n",
       "    }\n",
       "</style>\n",
       "<table border=\"1\" class=\"dataframe\">\n",
       "  <thead>\n",
       "    <tr style=\"text-align: right;\">\n",
       "      <th></th>\n",
       "      <th>stars</th>\n",
       "      <th>review</th>\n",
       "      <th>Lemma</th>\n",
       "      <th>Polarity</th>\n",
       "      <th>Analysis</th>\n",
       "    </tr>\n",
       "  </thead>\n",
       "  <tbody>\n",
       "    <tr>\n",
       "      <th>0</th>\n",
       "      <td>5.0</td>\n",
       "      <td>The title says it all; “Truly good quality cof...</td>\n",
       "      <td>truly good quality coffee rediscover</td>\n",
       "      <td>0.700</td>\n",
       "      <td>Positive</td>\n",
       "    </tr>\n",
       "    <tr>\n",
       "      <th>1</th>\n",
       "      <td>5.0</td>\n",
       "      <td>This product is amazing! It fires me up so muc...</td>\n",
       "      <td>human termite</td>\n",
       "      <td>0.000</td>\n",
       "      <td>Neutral</td>\n",
       "    </tr>\n",
       "    <tr>\n",
       "      <th>2</th>\n",
       "      <td>5.0</td>\n",
       "      <td>I have been using this since I bought my revil...</td>\n",
       "      <td>good espresso highly recommend</td>\n",
       "      <td>0.430</td>\n",
       "      <td>Positive</td>\n",
       "    </tr>\n",
       "    <tr>\n",
       "      <th>3</th>\n",
       "      <td>5.0</td>\n",
       "      <td>I use the Harrio brewing method for my morning...</td>\n",
       "      <td>gran crema espresso best coffee year</td>\n",
       "      <td>1.000</td>\n",
       "      <td>Positive</td>\n",
       "    </tr>\n",
       "    <tr>\n",
       "      <th>4</th>\n",
       "      <td>1.0</td>\n",
       "      <td>Lavazza coffee is usually incredible, fresh an...</td>\n",
       "      <td>get ready blast past twilight zone</td>\n",
       "      <td>-0.025</td>\n",
       "      <td>Negative</td>\n",
       "    </tr>\n",
       "  </tbody>\n",
       "</table>\n",
       "</div>"
      ],
      "text/plain": [
       "  stars                                             review  \\\n",
       "0   5.0  The title says it all; “Truly good quality cof...   \n",
       "1   5.0  This product is amazing! It fires me up so muc...   \n",
       "2   5.0  I have been using this since I bought my revil...   \n",
       "3   5.0  I use the Harrio brewing method for my morning...   \n",
       "4   1.0  Lavazza coffee is usually incredible, fresh an...   \n",
       "\n",
       "                                    Lemma  Polarity  Analysis  \n",
       "0    truly good quality coffee rediscover     0.700  Positive  \n",
       "1                           human termite     0.000   Neutral  \n",
       "2          good espresso highly recommend     0.430  Positive  \n",
       "3    gran crema espresso best coffee year     1.000  Positive  \n",
       "4      get ready blast past twilight zone    -0.025  Negative  "
      ]
     },
     "execution_count": 101,
     "metadata": {},
     "output_type": "execute_result"
    }
   ],
   "source": [
    "fin_data = pd.DataFrame(mydata[['stars','review', 'Lemma']])\n",
    "# fin_data['Subjectivity'] = fin_data['Lemma'].apply(getSubjectivity) \n",
    "fin_data['Polarity'] = fin_data['Lemma'].apply(getPolarity) \n",
    "fin_data['Analysis'] = fin_data['Polarity'].apply(analysis)\n",
    "fin_data.head()"
   ]
  },
  {
   "cell_type": "code",
   "execution_count": 102,
   "metadata": {},
   "outputs": [
    {
     "data": {
      "text/plain": [
       "Positive    3151\n",
       "Neutral     1250\n",
       "Negative     470\n",
       "Name: Analysis, dtype: int64"
      ]
     },
     "execution_count": 102,
     "metadata": {},
     "output_type": "execute_result"
    }
   ],
   "source": [
    "tb_counts = fin_data.Analysis.value_counts()\n",
    "\n",
    "tb_counts"
   ]
  },
  {
   "cell_type": "markdown",
   "metadata": {},
   "source": [
    "# Sentiment Analysis using VADER\n"
   ]
  },
  {
   "cell_type": "code",
   "execution_count": 103,
   "metadata": {},
   "outputs": [
    {
     "data": {
      "text/html": [
       "<div>\n",
       "<style scoped>\n",
       "    .dataframe tbody tr th:only-of-type {\n",
       "        vertical-align: middle;\n",
       "    }\n",
       "\n",
       "    .dataframe tbody tr th {\n",
       "        vertical-align: top;\n",
       "    }\n",
       "\n",
       "    .dataframe thead th {\n",
       "        text-align: right;\n",
       "    }\n",
       "</style>\n",
       "<table border=\"1\" class=\"dataframe\">\n",
       "  <thead>\n",
       "    <tr style=\"text-align: right;\">\n",
       "      <th></th>\n",
       "      <th>stars</th>\n",
       "      <th>review</th>\n",
       "      <th>Lemma</th>\n",
       "      <th>Polarity</th>\n",
       "      <th>Analysis</th>\n",
       "      <th>Vader Sentiment</th>\n",
       "      <th>Vader Analysis</th>\n",
       "    </tr>\n",
       "  </thead>\n",
       "  <tbody>\n",
       "    <tr>\n",
       "      <th>0</th>\n",
       "      <td>5.0</td>\n",
       "      <td>The title says it all; “Truly good quality cof...</td>\n",
       "      <td>truly good quality coffee rediscover</td>\n",
       "      <td>0.700</td>\n",
       "      <td>Positive</td>\n",
       "      <td>0.7003</td>\n",
       "      <td>Positive</td>\n",
       "    </tr>\n",
       "    <tr>\n",
       "      <th>1</th>\n",
       "      <td>5.0</td>\n",
       "      <td>This product is amazing! It fires me up so muc...</td>\n",
       "      <td>human termite</td>\n",
       "      <td>0.000</td>\n",
       "      <td>Neutral</td>\n",
       "      <td>0.0000</td>\n",
       "      <td>Neutral</td>\n",
       "    </tr>\n",
       "    <tr>\n",
       "      <th>2</th>\n",
       "      <td>5.0</td>\n",
       "      <td>I have been using this since I bought my revil...</td>\n",
       "      <td>good espresso highly recommend</td>\n",
       "      <td>0.430</td>\n",
       "      <td>Positive</td>\n",
       "      <td>0.6901</td>\n",
       "      <td>Positive</td>\n",
       "    </tr>\n",
       "    <tr>\n",
       "      <th>3</th>\n",
       "      <td>5.0</td>\n",
       "      <td>I use the Harrio brewing method for my morning...</td>\n",
       "      <td>gran crema espresso best coffee year</td>\n",
       "      <td>1.000</td>\n",
       "      <td>Positive</td>\n",
       "      <td>0.6369</td>\n",
       "      <td>Positive</td>\n",
       "    </tr>\n",
       "    <tr>\n",
       "      <th>4</th>\n",
       "      <td>1.0</td>\n",
       "      <td>Lavazza coffee is usually incredible, fresh an...</td>\n",
       "      <td>get ready blast past twilight zone</td>\n",
       "      <td>-0.025</td>\n",
       "      <td>Negative</td>\n",
       "      <td>0.3612</td>\n",
       "      <td>Neutral</td>\n",
       "    </tr>\n",
       "  </tbody>\n",
       "</table>\n",
       "</div>"
      ],
      "text/plain": [
       "  stars                                             review  \\\n",
       "0   5.0  The title says it all; “Truly good quality cof...   \n",
       "1   5.0  This product is amazing! It fires me up so muc...   \n",
       "2   5.0  I have been using this since I bought my revil...   \n",
       "3   5.0  I use the Harrio brewing method for my morning...   \n",
       "4   1.0  Lavazza coffee is usually incredible, fresh an...   \n",
       "\n",
       "                                    Lemma  Polarity  Analysis  \\\n",
       "0    truly good quality coffee rediscover     0.700  Positive   \n",
       "1                           human termite     0.000   Neutral   \n",
       "2          good espresso highly recommend     0.430  Positive   \n",
       "3    gran crema espresso best coffee year     1.000  Positive   \n",
       "4      get ready blast past twilight zone    -0.025  Negative   \n",
       "\n",
       "   Vader Sentiment Vader Analysis  \n",
       "0           0.7003       Positive  \n",
       "1           0.0000        Neutral  \n",
       "2           0.6901       Positive  \n",
       "3           0.6369       Positive  \n",
       "4           0.3612        Neutral  "
      ]
     },
     "execution_count": 103,
     "metadata": {},
     "output_type": "execute_result"
    }
   ],
   "source": [
    "from vaderSentiment.vaderSentiment import SentimentIntensityAnalyzer\n",
    "analyzer = SentimentIntensityAnalyzer()\n",
    "# function to calculate vader sentiment\n",
    "def vadersentimentanalysis(review):\n",
    "    vs = analyzer.polarity_scores(review)\n",
    "    return vs['compound']\n",
    "fin_data['Vader Sentiment'] = fin_data['Lemma'].apply(vadersentimentanalysis)\n",
    "# function to analyse\n",
    "def vader_analysis(compound):\n",
    "    if compound >= 0.5:\n",
    "        return 'Positive'\n",
    "    elif compound <= -0.5 :\n",
    "        return 'Negative'\n",
    "    else:\n",
    "        return 'Neutral'\n",
    "fin_data['Vader Analysis'] = fin_data['Vader Sentiment'].apply(vader_analysis)\n",
    "fin_data.head()"
   ]
  },
  {
   "cell_type": "code",
   "execution_count": 104,
   "metadata": {},
   "outputs": [
    {
     "data": {
      "text/plain": [
       "Neutral     2761\n",
       "Positive    1981\n",
       "Negative     129\n",
       "Name: Vader Analysis, dtype: int64"
      ]
     },
     "execution_count": 104,
     "metadata": {},
     "output_type": "execute_result"
    }
   ],
   "source": [
    "vader_counts = fin_data['Vader Analysis'].value_counts()\n",
    "vader_counts"
   ]
  },
  {
   "cell_type": "markdown",
   "metadata": {},
   "source": [
    "# Sentiment Analysis using SentiWordNet\n"
   ]
  },
  {
   "cell_type": "code",
   "execution_count": null,
   "metadata": {},
   "outputs": [
    {
     "name": "stderr",
     "output_type": "stream",
     "text": [
      "[nltk_data] Downloading package sentiwordnet to C:\\Users\\ryass.DESKTOP\n",
      "[nltk_data]     -0A1NS33\\AppData\\Roaming\\nltk_data...\n",
      "[nltk_data]   Package sentiwordnet is already up-to-date!\n"
     ]
    },
    {
     "data": {
      "text/html": [
       "<div>\n",
       "<style scoped>\n",
       "    .dataframe tbody tr th:only-of-type {\n",
       "        vertical-align: middle;\n",
       "    }\n",
       "\n",
       "    .dataframe tbody tr th {\n",
       "        vertical-align: top;\n",
       "    }\n",
       "\n",
       "    .dataframe thead th {\n",
       "        text-align: right;\n",
       "    }\n",
       "</style>\n",
       "<table border=\"1\" class=\"dataframe\">\n",
       "  <thead>\n",
       "    <tr style=\"text-align: right;\">\n",
       "      <th></th>\n",
       "      <th>stars</th>\n",
       "      <th>review</th>\n",
       "      <th>Lemma</th>\n",
       "      <th>Polarity</th>\n",
       "      <th>Analysis</th>\n",
       "      <th>Vader Sentiment</th>\n",
       "      <th>Vader Analysis</th>\n",
       "      <th>SWN Analysis</th>\n",
       "      <th>SWN Sentiment</th>\n",
       "    </tr>\n",
       "  </thead>\n",
       "  <tbody>\n",
       "    <tr>\n",
       "      <th>0</th>\n",
       "      <td>5.0</td>\n",
       "      <td>The title says it all; “Truly good quality cof...</td>\n",
       "      <td>truly good quality coffee rediscover</td>\n",
       "      <td>0.700</td>\n",
       "      <td>Positive</td>\n",
       "      <td>0.7003</td>\n",
       "      <td>Positive</td>\n",
       "      <td>Positive</td>\n",
       "      <td>0.625</td>\n",
       "    </tr>\n",
       "    <tr>\n",
       "      <th>1</th>\n",
       "      <td>5.0</td>\n",
       "      <td>This product is amazing! It fires me up so muc...</td>\n",
       "      <td>human termite</td>\n",
       "      <td>0.000</td>\n",
       "      <td>Neutral</td>\n",
       "      <td>0.0000</td>\n",
       "      <td>Neutral</td>\n",
       "      <td>Neutral</td>\n",
       "      <td>0.000</td>\n",
       "    </tr>\n",
       "    <tr>\n",
       "      <th>2</th>\n",
       "      <td>5.0</td>\n",
       "      <td>I have been using this since I bought my revil...</td>\n",
       "      <td>good espresso highly recommend</td>\n",
       "      <td>0.430</td>\n",
       "      <td>Positive</td>\n",
       "      <td>0.6901</td>\n",
       "      <td>Positive</td>\n",
       "      <td>Positive</td>\n",
       "      <td>0.750</td>\n",
       "    </tr>\n",
       "    <tr>\n",
       "      <th>3</th>\n",
       "      <td>5.0</td>\n",
       "      <td>I use the Harrio brewing method for my morning...</td>\n",
       "      <td>gran crema espresso best coffee year</td>\n",
       "      <td>1.000</td>\n",
       "      <td>Positive</td>\n",
       "      <td>0.6369</td>\n",
       "      <td>Positive</td>\n",
       "      <td>Neutral</td>\n",
       "      <td>0.000</td>\n",
       "    </tr>\n",
       "    <tr>\n",
       "      <th>4</th>\n",
       "      <td>1.0</td>\n",
       "      <td>Lavazza coffee is usually incredible, fresh an...</td>\n",
       "      <td>get ready blast past twilight zone</td>\n",
       "      <td>-0.025</td>\n",
       "      <td>Negative</td>\n",
       "      <td>0.3612</td>\n",
       "      <td>Neutral</td>\n",
       "      <td>Positive</td>\n",
       "      <td>0.125</td>\n",
       "    </tr>\n",
       "  </tbody>\n",
       "</table>\n",
       "</div>"
      ],
      "text/plain": [
       "  stars                                             review  \\\n",
       "0   5.0  The title says it all; “Truly good quality cof...   \n",
       "1   5.0  This product is amazing! It fires me up so muc...   \n",
       "2   5.0  I have been using this since I bought my revil...   \n",
       "3   5.0  I use the Harrio brewing method for my morning...   \n",
       "4   1.0  Lavazza coffee is usually incredible, fresh an...   \n",
       "\n",
       "                                    Lemma  Polarity  Analysis  \\\n",
       "0    truly good quality coffee rediscover     0.700  Positive   \n",
       "1                           human termite     0.000   Neutral   \n",
       "2          good espresso highly recommend     0.430  Positive   \n",
       "3    gran crema espresso best coffee year     1.000  Positive   \n",
       "4      get ready blast past twilight zone    -0.025  Negative   \n",
       "\n",
       "   Vader Sentiment Vader Analysis SWN Analysis  SWN Sentiment  \n",
       "0           0.7003       Positive     Positive          0.625  \n",
       "1           0.0000        Neutral      Neutral          0.000  \n",
       "2           0.6901       Positive     Positive          0.750  \n",
       "3           0.6369       Positive      Neutral          0.000  \n",
       "4           0.3612        Neutral     Positive          0.125  "
      ]
     },
     "execution_count": 139,
     "metadata": {},
     "output_type": "execute_result"
    }
   ],
   "source": [
    "nltk.download('sentiwordnet')\n",
    "from nltk.corpus import sentiwordnet as swn\n",
    "def sentiwordnetanalysis(pos_data):\n",
    "    sentiment = 0\n",
    "    tokens_count = 0\n",
    "    for word, pos in pos_data:\n",
    "        if not pos:\n",
    "            continue\n",
    "        lemma = wordnet_lemmatizer.lemmatize(word, pos=pos)\n",
    "        if not lemma:\n",
    "            continue\n",
    "        synsets = wordnet.synsets(lemma, pos=pos)\n",
    "        if not synsets:\n",
    "            continue\n",
    "            # Take the first sense, the most common\n",
    "        synset = synsets[0]\n",
    "        swn_synset = swn.senti_synset(synset.name())\n",
    "        sentiment += swn_synset.pos_score() - swn_synset.neg_score()\n",
    "        tokens_count += 1\n",
    "        # print(swn_synset.pos_score(),swn_synset.neg_score(),swn_synset.obj_score())\n",
    "        if not tokens_count:\n",
    "            return 0\n",
    "        if sentiment>0:\n",
    "            return \"Positive\",sentiment\n",
    "        if sentiment==0:\n",
    "            return \"Neutral\",sentiment\n",
    "        else:\n",
    "            return \"Negative\" ,sentiment\n",
    "\n",
    "fin_data['SWN Sentiment']=mydata['POS tagged'].apply(sentiwordnetanalysis).str[1]\n",
    "\n",
    "fin_data['SWN Analysis'] = mydata['POS tagged'].apply(sentiwordnetanalysis).str[0]\n",
    "fin_data.head()\n"
   ]
  },
  {
   "cell_type": "code",
   "execution_count": null,
   "metadata": {},
   "outputs": [
    {
     "data": {
      "text/plain": [
       "Neutral     2076\n",
       "Positive    2010\n",
       "Negative     537\n",
       "Name: SWN Analysis, dtype: int64"
      ]
     },
     "execution_count": 140,
     "metadata": {},
     "output_type": "execute_result"
    }
   ],
   "source": [
    "swn_counts= fin_data['SWN Analysis'].value_counts()\n",
    "swn_counts"
   ]
  },
  {
   "cell_type": "code",
   "execution_count": 141,
   "metadata": {},
   "outputs": [
    {
     "data": {
      "text/plain": [
       "([<matplotlib.patches.Wedge at 0x1ad0c0283a0>,\n",
       "  <matplotlib.patches.Wedge at 0x1ad0c028e50>,\n",
       "  <matplotlib.patches.Wedge at 0x1ad0bed41f0>],\n",
       " [Text(0.1752888474128685, 1.0859437462284445, 'Neutral'),\n",
       "  Text(-0.5512943434881186, -0.9518794812569522, 'Positive'),\n",
       "  Text(1.2611044853473141, -0.48178364131307566, 'Negative')],\n",
       " [Text(0.09561209858883735, 0.5923329524882424, '44.9%'),\n",
       "  Text(-0.3007060055389737, -0.5192069897765194, '43.5%'),\n",
       "  Text(0.7940287500334939, -0.3033452556415661, '11.6%')])"
      ]
     },
     "execution_count": 141,
     "metadata": {},
     "output_type": "execute_result"
    },
    {
     "data": {
      "image/png": "[encoded data removed]",
      "text/plain": [
       "<Figure size 432x288 with 2 Axes>"
      ]
     },
     "metadata": {},
     "output_type": "display_data"
    }
   ],
   "source": [
    "plt.title(\"TextBlob results\")\n",
    "plt.pie(tb_counts.values, labels = tb_counts.index, explode = (0, 0, 0.25), autopct='%1.1f%%', shadow=False)\n",
    "plt.subplot(1,3,2)\n",
    "plt.title(\"VADER results\")\n",
    "plt.pie(vader_counts.values, labels = vader_counts.index, explode = (0, 0, 0.25), autopct='%1.1f%%', shadow=False)\n",
    "plt.subplot(1,3,3)\n",
    "plt.title(\"SentiWordNet results\")\n",
    "plt.pie(swn_counts.values, labels = swn_counts.index, explode = (0, 0, 0.25), autopct='%1.1f%%', shadow=False)"
   ]
  },
  {
   "cell_type": "code",
   "execution_count": 142,
   "metadata": {},
   "outputs": [
    {
     "data": {
      "text/plain": [
       "<AxesSubplot:xlabel='stars', ylabel='count'>"
      ]
     },
     "execution_count": 142,
     "metadata": {},
     "output_type": "execute_result"
    },
    {
     "data": {
      "image/png": "[encoded data removed]",
      "text/plain": [
       "<Figure size 432x288 with 1 Axes>"
      ]
     },
     "metadata": {
      "needs_background": "light"
     },
     "output_type": "display_data"
    }
   ],
   "source": [
    "sns.countplot(data=fin_data,x='stars',hue='SWN Analysis',hue_order=['Positive','Neutral','Negative'],order=['1.0','2.0','3.0','4.0','5.0'])"
   ]
  },
  {
   "cell_type": "code",
   "execution_count": 143,
   "metadata": {},
   "outputs": [
    {
     "data": {
      "text/plain": [
       "<AxesSubplot:xlabel='stars', ylabel='count'>"
      ]
     },
     "execution_count": 143,
     "metadata": {},
     "output_type": "execute_result"
    },
    {
     "data": {
      "image/png": "[encoded data removed]",
      "text/plain": [
       "<Figure size 432x288 with 1 Axes>"
      ]
     },
     "metadata": {
      "needs_background": "light"
     },
     "output_type": "display_data"
    }
   ],
   "source": [
    "sns.countplot(data=fin_data,x='stars',hue='Vader Analysis',hue_order=['Positive','Neutral','Negative'],order=['1.0','2.0','3.0','4.0','5.0'])"
   ]
  },
  {
   "cell_type": "code",
   "execution_count": 144,
   "metadata": {},
   "outputs": [
    {
     "data": {
      "text/plain": [
       "<AxesSubplot:xlabel='stars', ylabel='count'>"
      ]
     },
     "execution_count": 144,
     "metadata": {},
     "output_type": "execute_result"
    },
    {
     "data": {
      "image/png": "[encoded data removed]",
      "text/plain": [
       "<Figure size 432x288 with 1 Axes>"
      ]
     },
     "metadata": {
      "needs_background": "light"
     },
     "output_type": "display_data"
    }
   ],
   "source": [
    "sns.countplot(data=fin_data,x='stars',hue='Analysis',hue_order=['Positive','Neutral','Negative'],order=['1.0','2.0','3.0','4.0','5.0'])"
   ]
  },
  {
   "cell_type": "code",
   "execution_count": 158,
   "metadata": {},
   "outputs": [
    {
     "data": {
      "text/plain": [
       "<seaborn.axisgrid.JointGrid at 0x1ad134b0760>"
      ]
     },
     "execution_count": 158,
     "metadata": {},
     "output_type": "execute_result"
    },
    {
     "data": {
      "image/png": "[encoded data removed]",
      "text/plain": [
       "<Figure size 432x432 with 3 Axes>"
      ]
     },
     "metadata": {
      "needs_background": "light"
     },
     "output_type": "display_data"
    }
   ],
   "source": [
    "sns.jointplot(data=fin_data,x='Vader Sentiment',y='SWN Sentiment',hue='Analysis',marker='.')"
   ]
  },
  {
   "cell_type": "code",
   "execution_count": 183,
   "metadata": {},
   "outputs": [
    {
     "data": {
      "text/html": [
       "<div>\n",
       "<style scoped>\n",
       "    .dataframe tbody tr th:only-of-type {\n",
       "        vertical-align: middle;\n",
       "    }\n",
       "\n",
       "    .dataframe tbody tr th {\n",
       "        vertical-align: top;\n",
       "    }\n",
       "\n",
       "    .dataframe thead th {\n",
       "        text-align: right;\n",
       "    }\n",
       "</style>\n",
       "<table border=\"1\" class=\"dataframe\">\n",
       "  <thead>\n",
       "    <tr style=\"text-align: right;\">\n",
       "      <th>Vader Analysis</th>\n",
       "      <th>Negative</th>\n",
       "      <th>Neutral</th>\n",
       "      <th>Positive</th>\n",
       "    </tr>\n",
       "    <tr>\n",
       "      <th>SWN Analysis</th>\n",
       "      <th></th>\n",
       "      <th></th>\n",
       "      <th></th>\n",
       "    </tr>\n",
       "  </thead>\n",
       "  <tbody>\n",
       "    <tr>\n",
       "      <th>Negative</th>\n",
       "      <td>84</td>\n",
       "      <td>360</td>\n",
       "      <td>93</td>\n",
       "    </tr>\n",
       "    <tr>\n",
       "      <th>Neutral</th>\n",
       "      <td>25</td>\n",
       "      <td>1193</td>\n",
       "      <td>858</td>\n",
       "    </tr>\n",
       "    <tr>\n",
       "      <th>Positive</th>\n",
       "      <td>20</td>\n",
       "      <td>993</td>\n",
       "      <td>997</td>\n",
       "    </tr>\n",
       "  </tbody>\n",
       "</table>\n",
       "</div>"
      ],
      "text/plain": [
       "Vader Analysis  Negative  Neutral  Positive\n",
       "SWN Analysis                               \n",
       "Negative              84      360        93\n",
       "Neutral               25     1193       858\n",
       "Positive              20      993       997"
      ]
     },
     "execution_count": 183,
     "metadata": {},
     "output_type": "execute_result"
    }
   ],
   "source": [
    "cross=pd.crosstab(fin_data['SWN Analysis'],fin_data['Vader Analysis'])\n",
    "cross"
   ]
  },
  {
   "cell_type": "code",
   "execution_count": 182,
   "metadata": {},
   "outputs": [
    {
     "data": {
      "text/plain": [
       "<AxesSubplot:xlabel='Vader Analysis', ylabel='SWN Analysis'>"
      ]
     },
     "execution_count": 182,
     "metadata": {},
     "output_type": "execute_result"
    },
    {
     "data": {
      "image/png": "[encoded data removed]",
      "text/plain": [
       "<Figure size 432x288 with 1 Axes>"
      ]
     },
     "metadata": {
      "needs_background": "light"
     },
     "output_type": "display_data"
    }
   ],
   "source": [
    "sns.heatmap(cross,cmap=\"YlGnBu\", annot=True, cbar=False)"
   ]
  },
  {
   "cell_type": "code",
   "execution_count": null,
   "metadata": {},
   "outputs": [],
   "source": []
  }
 ],
 "metadata": {
  "kernelspec": {
   "display_name": "Python 3.9.12 ('base')",
   "language": "python",
   "name": "python3"
  },
  "language_info": {
   "codemirror_mode": {
    "name": "ipython",
    "version": 3
   },
   "file_extension": ".py",
   "mimetype": "text/x-python",
   "name": "python",
   "nbconvert_exporter": "python",
   "pygments_lexer": "ipython3",
   "version": "3.9.12"
  },
  "orig_nbformat": 4,
  "vscode": {
   "interpreter": {
    "hash": "ad2bdc8ecc057115af97d19610ffacc2b4e99fae6737bb82f5d7fb13d2f2c186"
   }
  }
 },
 "nbformat": 4,
 "nbformat_minor": 2
}
